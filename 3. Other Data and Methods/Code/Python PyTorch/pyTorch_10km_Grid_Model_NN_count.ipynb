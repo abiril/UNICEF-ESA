{
 "cells": [
  {
   "cell_type": "code",
   "execution_count": 27,
   "metadata": {},
   "outputs": [],
   "source": [
    "import numpy\n",
    "import pandas\n",
    "import matplotlib.pyplot as plt\n",
    "import csv\n",
    "import torch\n",
    "from torch import nn\n",
    "import torch.nn.functional as F\n",
    "from torch.autograd import Variable\n",
    "import math\n",
    "from sklearn.model_selection import train_test_split\n",
    "from sklearn.metrics import mean_squared_error\n",
    "import sklearn\n",
    "from math import sqrt"
   ]
  },
  {
   "cell_type": "markdown",
   "metadata": {},
   "source": [
    "https://www.pluralsight.com/guides/predictive-analytics-with-pytorch"
   ]
  },
  {
   "cell_type": "code",
   "execution_count": 39,
   "metadata": {},
   "outputs": [
    {
     "name": "stdout",
     "output_type": "stream",
     "text": [
      "['NUMPOINTS']\n",
      "['x', 'smod..13', 'built_v', 'land', 'smod..10', 'smod..11', 'smod..12', 'smod..30', 'y', 'smod..21', 'pop', 'smod..22', 'smod..23', 'built_s']\n",
      "(25943, 14)\n",
      "(11119, 14)\n"
     ]
    }
   ],
   "source": [
    "schools = pandas.read_csv(\"/home/azureuser/cloudfiles/code/Users/ariley/Data/Schools/School_Counts/NE_10km_school_count_wData.csv\")\n",
    "\n",
    "schools = schools.iloc[:, 2:]\n",
    "schools = schools.drop(columns = ['ID'])\n",
    "\n",
    "schools = schools.dropna()\n",
    "\n",
    "df = schools\n",
    "\n",
    "df.head()\n",
    "\n",
    "target_column = ['NUMPOINTS'] \n",
    "predictors = list(set(list(df.columns))-set(target_column))\n",
    "\n",
    "print(target_column)\n",
    "print(predictors)\n",
    "\n",
    "X = df[predictors].values\n",
    "y = df[target_column].values\n",
    "\n",
    "X_train, X_test, y_train, y_test = train_test_split(X, y, test_size = 0.3, random_state = 30)\n",
    "print(X_train.shape); print(X_test.shape)\n"
   ]
  },
  {
   "cell_type": "code",
   "execution_count": 40,
   "metadata": {},
   "outputs": [],
   "source": [
    "class ANN(nn.Module):\n",
    "    def __init__(self, input_dim = 8, output_dim = 1):\n",
    "        super(ANN, self).__init__()\n",
    "        self.fc1 = nn.Linear(input_dim, 64)\n",
    "        self.fc2 = nn.Linear(64, 64)\n",
    "        self.fc3 = nn.Linear(64, 32)\n",
    "        self.fc4 = nn.Linear(32, 32)\n",
    "        self.output_layer = nn.Linear(32,1)\n",
    "        self.dropout = nn.Dropout(0.15)\n",
    "\n",
    "    def forward(self, x):\n",
    "        x = F.relu(self.fc1(x))\n",
    "        x = F.relu(self.fc2(x))\n",
    "        x = self.dropout(x)\n",
    "        x = F.relu(self.fc3(x))\n",
    "        x = F.relu(self.fc4(x))\n",
    "        x = self.output_layer(x)\n",
    "        \n",
    "        #return nn.Sigmoid()(x)\n",
    "        return nn.ReLU()(x)"
   ]
  },
  {
   "cell_type": "code",
   "execution_count": 41,
   "metadata": {},
   "outputs": [
    {
     "name": "stdout",
     "output_type": "stream",
     "text": [
      "ANN(\n",
      "  (fc1): Linear(in_features=14, out_features=64, bias=True)\n",
      "  (fc2): Linear(in_features=64, out_features=64, bias=True)\n",
      "  (fc3): Linear(in_features=64, out_features=32, bias=True)\n",
      "  (fc4): Linear(in_features=32, out_features=32, bias=True)\n",
      "  (output_layer): Linear(in_features=32, out_features=1, bias=True)\n",
      "  (dropout): Dropout(p=0.15, inplace=False)\n",
      ")\n"
     ]
    }
   ],
   "source": [
    "model = ANN(input_dim = 14, output_dim = 1)\n",
    "\n",
    "\n",
    "\n",
    "print(model)"
   ]
  },
  {
   "cell_type": "code",
   "execution_count": 42,
   "metadata": {},
   "outputs": [],
   "source": [
    "X_train = torch.from_numpy(X_train)\n",
    "y_train = torch.from_numpy(y_train)#.view(-1,1)\n",
    "\n",
    "X_test = torch.from_numpy(X_test)\n",
    "y_test = torch.from_numpy(y_test)#.view(-1,1)\n",
    "\n",
    "train = torch.utils.data.TensorDataset(X_train,y_train)\n",
    "test = torch.utils.data.TensorDataset(X_test,y_test)\n",
    "\n",
    "train_loader = torch.utils.data.DataLoader(train, batch_size = 64, shuffle = True)\n",
    "test_loader = torch.utils.data.DataLoader(test, batch_size = 64, shuffle = True)"
   ]
  },
  {
   "cell_type": "code",
   "execution_count": 43,
   "metadata": {},
   "outputs": [],
   "source": [
    "import torch.optim as optim\n",
    "#loss_fn = nn.BCELoss()\n",
    "#loss_fn = nn.CrossEntropyLoss()\n",
    "\n",
    "def loss_fn(pred, obs):\n",
    "    \"\"\"Custom loss function for Poisson model.\"\"\"\n",
    "    loss = torch.mean(pred-obs*torch.log(pred))\n",
    "    return loss\n",
    "\n",
    "loss_fn = nn.MSELoss()\n",
    "\n",
    "optimizer = optim.SGD(model.parameters(), lr=0.001, weight_decay= 1e-6, momentum = 0.8)"
   ]
  },
  {
   "cell_type": "code",
   "execution_count": 45,
   "metadata": {},
   "outputs": [
    {
     "name": "stdout",
     "output_type": "stream",
     "text": [
      "Epoch: 1 \tTraining Loss: 257.8686\t Acc: 73.90%\n",
      "Epoch: 2 \tTraining Loss: 257.8686\t Acc: 73.90%\n",
      "Epoch: 3 \tTraining Loss: 257.8686\t Acc: 73.90%\n",
      "Epoch: 4 \tTraining Loss: 257.8686\t Acc: 73.90%\n",
      "Epoch: 5 \tTraining Loss: 257.8686\t Acc: 73.90%\n",
      "Epoch: 6 \tTraining Loss: 257.8686\t Acc: 73.90%\n",
      "Epoch: 7 \tTraining Loss: 257.8686\t Acc: 73.90%\n",
      "Epoch: 8 \tTraining Loss: 257.8686\t Acc: 73.90%\n",
      "Epoch: 9 \tTraining Loss: 257.8686\t Acc: 73.90%\n",
      "Epoch: 10 \tTraining Loss: 257.8686\t Acc: 73.90%\n"
     ]
    }
   ],
   "source": [
    "# lines 1 to 6\n",
    "epochs = 10 #2000\n",
    "epoch_list = []\n",
    "train_loss_list = []\n",
    "val_loss_list = []\n",
    "train_acc_list = []\n",
    "val_acc_list = []\n",
    "\n",
    "# lines 7 onwards\n",
    "model.train() # prepare model for training\n",
    "\n",
    "for epoch in range(epochs):\n",
    "    trainloss = 0.0\n",
    "    valloss = 0.0\n",
    "    \n",
    "    correct = 0\n",
    "    total = 0\n",
    "    for data,target in train_loader:\n",
    "        data = Variable(data).float()\n",
    "        target = Variable(target).type(torch.FloatTensor)\n",
    "        optimizer.zero_grad()\n",
    "        output = model(data)\n",
    "        predicted = (torch.round(output.data[0]))\n",
    "        total += len(target)\n",
    "        correct += (predicted == target).sum()\n",
    "\n",
    "        loss = loss_fn(output, target)\n",
    "        loss.backward()\n",
    "        optimizer.step()\n",
    "        trainloss += loss.item()*data.size(0)\n",
    "\n",
    "    trainloss = trainloss/len(train_loader.dataset)\n",
    "    accuracy = 100 * correct / float(total)\n",
    "    train_acc_list.append(accuracy)\n",
    "    train_loss_list.append(trainloss)\n",
    "    print('Epoch: {} \\tTraining Loss: {:.4f}\\t Acc: {:.2f}%'.format(\n",
    "        epoch+1, \n",
    "        trainloss,\n",
    "        accuracy\n",
    "        ))\n",
    "    epoch_list.append(epoch + 1)"
   ]
  },
  {
   "cell_type": "code",
   "execution_count": 46,
   "metadata": {},
   "outputs": [
    {
     "name": "stdout",
     "output_type": "stream",
     "text": [
      "tensor(73.5678)\n",
      "[0.]\n"
     ]
    },
    {
     "data": {
      "text/plain": [
       "(array([174.,   0.,   0.]),\n",
       " array([ -1,   1,  10, 102]),\n",
       " <a list of 3 Patch objects>)"
      ]
     },
     "execution_count": 46,
     "metadata": {},
     "output_type": "execute_result"
    },
    {
     "data": {
      "image/png": "[encoded data removed]",
      "text/plain": [
       "<Figure size 640x480 with 1 Axes>"
      ]
     },
     "metadata": {},
     "output_type": "display_data"
    }
   ],
   "source": [
    "correct = 0\n",
    "total = 0\n",
    "valloss = 0\n",
    "model.eval() \n",
    "predicted = []\n",
    "\n",
    "\n",
    "with torch.no_grad():\n",
    "    for data, target in test_loader:\n",
    "        data = Variable(data).float()\n",
    "        target = Variable(target).type(torch.FloatTensor)\n",
    "\n",
    "        output = model(data)\n",
    "        loss = loss_fn(output, target)\n",
    "        valloss += loss.item()*data.size(0)\n",
    "        \n",
    "        pred = (torch.round(output.data[0]))\n",
    "        predicted.append(torch.round(output.data[0]))\n",
    "        total += len(target)\n",
    "        #correct += (predicted == target).sum()\n",
    "        correct += (pred == target).sum()\n",
    "    \n",
    "    valloss = valloss/len(test_loader.dataset)\n",
    "    accuracy = 100 * correct/ float(total)\n",
    "    print(accuracy) \n",
    "    \n",
    "#print(predicted)\n",
    "\n",
    "out = torch.cat(predicted, dim = 0)\n",
    "#print(out)\n",
    "\n",
    "out_array = numpy.array(out)\n",
    "#print(out_array)\n",
    "\n",
    "print(numpy.unique(out_array))\n",
    "\n",
    "plt.hist(out_array, bins = [-1,1,10,102])"
   ]
  }
 ],
 "metadata": {
  "kernelspec": {
   "display_name": "Python 3.8 - AzureML",
   "language": "python",
   "name": "python38-azureml"
  },
  "language_info": {
   "codemirror_mode": {
    "name": "ipython",
    "version": 3
   },
   "file_extension": ".py",
   "mimetype": "text/x-python",
   "name": "python",
   "nbconvert_exporter": "python",
   "pygments_lexer": "ipython3",
   "version": "3.8.5"
  }
 },
 "nbformat": 4,
 "nbformat_minor": 2
}
