{
 "cells": [
  {
   "cell_type": "code",
   "execution_count": 1,
   "metadata": {},
   "outputs": [
    {
     "name": "stdout",
     "output_type": "stream",
     "text": [
      "Requirement already satisfied: lightning in /anaconda/envs/azureml_py38/lib/python3.8/site-packages (2.1.1)\n",
      "Requirement already satisfied: torchmetrics<3.0,>=0.7.0 in /anaconda/envs/azureml_py38/lib/python3.8/site-packages (from lightning) (1.2.0)\n",
      "Requirement already satisfied: tqdm<6.0,>=4.57.0 in /anaconda/envs/azureml_py38/lib/python3.8/site-packages (from lightning) (4.65.0)\n",
      "Requirement already satisfied: numpy<3.0,>=1.17.2 in /anaconda/envs/azureml_py38/lib/python3.8/site-packages (from lightning) (1.21.6)\n",
      "Requirement already satisfied: fsspec[http]<2025.0,>2021.06.0 in /anaconda/envs/azureml_py38/lib/python3.8/site-packages (from lightning) (2023.5.0)\n",
      "Requirement already satisfied: PyYAML<8.0,>=5.4 in /anaconda/envs/azureml_py38/lib/python3.8/site-packages (from lightning) (6.0)\n",
      "Requirement already satisfied: typing-extensions<6.0,>=4.0.0 in /home/azureuser/.local/lib/python3.8/site-packages (from lightning) (4.8.0)\n",
      "Requirement already satisfied: torch<4.0,>=1.12.0 in /anaconda/envs/azureml_py38/lib/python3.8/site-packages (from lightning) (1.12.0)\n",
      "Requirement already satisfied: pytorch-lightning in /anaconda/envs/azureml_py38/lib/python3.8/site-packages (from lightning) (2.1.1)\n",
      "Requirement already satisfied: lightning-utilities<2.0,>=0.8.0 in /anaconda/envs/azureml_py38/lib/python3.8/site-packages (from lightning) (0.9.0)\n",
      "Requirement already satisfied: packaging<25.0,>=20.0 in /home/azureuser/.local/lib/python3.8/site-packages (from lightning) (23.1)\n",
      "Requirement already satisfied: requests; extra == \"http\" in /anaconda/envs/azureml_py38/lib/python3.8/site-packages (from fsspec[http]<2025.0,>2021.06.0->lightning) (2.31.0)\n",
      "Requirement already satisfied: aiohttp!=4.0.0a0,!=4.0.0a1; extra == \"http\" in /anaconda/envs/azureml_py38/lib/python3.8/site-packages (from fsspec[http]<2025.0,>2021.06.0->lightning) (3.8.4)\n",
      "Requirement already satisfied: urllib3<3,>=1.21.1 in /anaconda/envs/azureml_py38/lib/python3.8/site-packages (from requests; extra == \"http\"->fsspec[http]<2025.0,>2021.06.0->lightning) (1.26.16)\n",
      "Requirement already satisfied: certifi>=2017.4.17 in /anaconda/envs/azureml_py38/lib/python3.8/site-packages (from requests; extra == \"http\"->fsspec[http]<2025.0,>2021.06.0->lightning) (2022.9.24)\n",
      "Requirement already satisfied: charset-normalizer<4,>=2 in /anaconda/envs/azureml_py38/lib/python3.8/site-packages (from requests; extra == \"http\"->fsspec[http]<2025.0,>2021.06.0->lightning) (3.1.0)\n",
      "Requirement already satisfied: idna<4,>=2.5 in /anaconda/envs/azureml_py38/lib/python3.8/site-packages (from requests; extra == \"http\"->fsspec[http]<2025.0,>2021.06.0->lightning) (3.4)\n",
      "Requirement already satisfied: multidict<7.0,>=4.5 in /anaconda/envs/azureml_py38/lib/python3.8/site-packages (from aiohttp!=4.0.0a0,!=4.0.0a1; extra == \"http\"->fsspec[http]<2025.0,>2021.06.0->lightning) (6.0.4)\n",
      "Requirement already satisfied: attrs>=17.3.0 in /anaconda/envs/azureml_py38/lib/python3.8/site-packages (from aiohttp!=4.0.0a0,!=4.0.0a1; extra == \"http\"->fsspec[http]<2025.0,>2021.06.0->lightning) (23.1.0)\n",
      "Requirement already satisfied: frozenlist>=1.1.1 in /anaconda/envs/azureml_py38/lib/python3.8/site-packages (from aiohttp!=4.0.0a0,!=4.0.0a1; extra == \"http\"->fsspec[http]<2025.0,>2021.06.0->lightning) (1.3.3)\n",
      "Requirement already satisfied: async-timeout<5.0,>=4.0.0a3 in /anaconda/envs/azureml_py38/lib/python3.8/site-packages (from aiohttp!=4.0.0a0,!=4.0.0a1; extra == \"http\"->fsspec[http]<2025.0,>2021.06.0->lightning) (4.0.2)\n",
      "Requirement already satisfied: aiosignal>=1.1.2 in /anaconda/envs/azureml_py38/lib/python3.8/site-packages (from aiohttp!=4.0.0a0,!=4.0.0a1; extra == \"http\"->fsspec[http]<2025.0,>2021.06.0->lightning) (1.3.1)\n",
      "Requirement already satisfied: yarl<2.0,>=1.0 in /anaconda/envs/azureml_py38/lib/python3.8/site-packages (from aiohttp!=4.0.0a0,!=4.0.0a1; extra == \"http\"->fsspec[http]<2025.0,>2021.06.0->lightning) (1.9.2)\n",
      "Note: you may need to restart the kernel to use updated packages.\n"
     ]
    }
   ],
   "source": [
    "%pip install lightning\n",
    "\n",
    "import numpy\n",
    "import pandas\n",
    "import matplotlib.pyplot as plt\n",
    "import csv\n",
    "import torch\n",
    "from torch import nn\n",
    "import torch.nn.functional as F\n",
    "from torch.autograd import Variable\n",
    "import math\n",
    "from sklearn.model_selection import train_test_split\n",
    "from sklearn.metrics import mean_squared_error\n",
    "import sklearn\n",
    "from math import sqrt\n",
    "import lightning as pl\n"
   ]
  },
  {
   "cell_type": "markdown",
   "metadata": {},
   "source": [
    "https://www.pluralsight.com/guides/predictive-analytics-with-pytorch"
   ]
  },
  {
   "cell_type": "code",
   "execution_count": 2,
   "metadata": {},
   "outputs": [
    {
     "name": "stdout",
     "output_type": "stream",
     "text": [
      "['NUMPOINTS']\n",
      "['smod', 'x', 'y', 'ID', 'built_v', 'built_s', 'land', 'pop']\n",
      "(105854, 8)\n",
      "(45367, 8)\n"
     ]
    }
   ],
   "source": [
    "schools = pandas.read_csv(\"/home/azureuser/cloudfiles/code/Users/ariley/Data/Schools/School_Counts/ceara_school_count_data.csv\")\n",
    "\n",
    "schools = schools.iloc[:, 3:]\n",
    "\n",
    "schools = schools.dropna()\n",
    "\n",
    "df = schools\n",
    "\n",
    "df.head()\n",
    "\n",
    "target_column = ['NUMPOINTS'] \n",
    "predictors = list(set(list(df.columns))-set(target_column))\n",
    "\n",
    "print(target_column)\n",
    "print(predictors)\n",
    "\n",
    "X = df[predictors].values\n",
    "y = df[target_column].values\n",
    "\n",
    "X_train, X_test, y_train, y_test = train_test_split(X, y, test_size = 0.3, random_state = 30)\n",
    "print(X_train.shape); print(X_test.shape)\n"
   ]
  },
  {
   "cell_type": "code",
   "execution_count": 3,
   "metadata": {},
   "outputs": [],
   "source": [
    "class ZIPModel(pl.LightningModule):\n",
    "    def __init__(\n",
    "        self,\n",
    "        learning_rate=1e-3,\n",
    "        init_mix_parameter: float = 0.5,\n",
    "        init_poisson_lambda: float = 1.0,\n",
    "    ):\n",
    "        super().__init__()\n",
    "        self.mixture_prob = torch.nn.Parameter(torch.tensor([init_mix_parameter]))\n",
    "        self.poisson_lambda = torch.nn.Parameter(torch.tensor([init_poisson_lambda]))\n",
    "\n",
    "        self.train_log_error = []\n",
    "        self.val_log_error = []\n",
    "        self.mixture_prob_log = []\n",
    "        self.poisson_lambda_log = []\n",
    "        self.learning_rate = learning_rate\n",
    "\n",
    "    def forward(self):\n",
    "        # ensure correct domain for params\n",
    "        mixture_prob_norm = torch.sigmoid(self.mixture_prob)\n",
    "        poisson_lambda_norm = torch.nn.functional.softplus(self.poisson_lambda)\n",
    "        poisson_lambda_norm = torch.concat(\n",
    "            (torch.tensor([0.0]), poisson_lambda_norm)\n",
    "        )  # maintains grad\n",
    "\n",
    "        mix = torch.distributions.Categorical(\n",
    "            torch.concat((mixture_prob_norm, 1 - mixture_prob_norm))\n",
    "        )\n",
    "        poissons = torch.distributions.Poisson(poisson_lambda_norm)\n",
    "\n",
    "        mixture_dist = torch.distributions.MixtureSameFamily(mix, poissons)\n",
    "        return mixture_dist\n",
    "\n",
    "    def configure_optimizers(self):\n",
    "        optimizer = torch.optim.Adam(\n",
    "            self.parameters(),\n",
    "            lr=self.learning_rate,\n",
    "        )\n",
    "        return optimizer\n",
    "\n",
    "    def training_step(self, batch, batch_idx):\n",
    "        y = batch[0]\n",
    "\n",
    "        mixture_dist = self.forward()\n",
    "\n",
    "        negloglik = -mixture_dist.log_prob(y)\n",
    "        loss = torch.mean(negloglik)\n",
    "\n",
    "        self.train_log_error.append(loss.detach().numpy())\n",
    "        self.poisson_lambda_log.append(\n",
    "            torch.nn.functional.softplus(self.poisson_lambda).detach().numpy()\n",
    "        )\n",
    "        self.mixture_prob_log.append(torch.sigmoid(self.mixture_prob).detach().numpy())\n",
    "        return loss\n",
    "\n",
    "    def validation_step(self, batch, batch_idx):\n",
    "        y = batch[0]\n",
    "\n",
    "        mixture_dist = self.forward()\n",
    "\n",
    "        negloglik = -mixture_dist.log_prob(y)\n",
    "        loss = torch.mean(negloglik)\n",
    "\n",
    "        self.train_log_error.append(loss.detach().numpy())\n",
    "        return loss\n"
   ]
  },
  {
   "cell_type": "code",
   "execution_count": 4,
   "metadata": {},
   "outputs": [
    {
     "name": "stdout",
     "output_type": "stream",
     "text": [
      "ZIPModel()\n"
     ]
    }
   ],
   "source": [
    "model = ZIPModel(learning_rate=1e-0, init_mix_parameter=0.5, init_poisson_lambda=4.5)\n",
    "\n",
    "print(model)"
   ]
  },
  {
   "cell_type": "code",
   "execution_count": 5,
   "metadata": {},
   "outputs": [],
   "source": [
    "X_train = torch.from_numpy(X_train)\n",
    "y_train = torch.from_numpy(y_train)#.view(-1,1)\n",
    "\n",
    "X_test = torch.from_numpy(X_test)\n",
    "y_test = torch.from_numpy(y_test)#.view(-1,1)\n",
    "\n",
    "train = torch.utils.data.TensorDataset(X_train,y_train)\n",
    "test = torch.utils.data.TensorDataset(X_test,y_test)\n",
    "\n",
    "train_loader = torch.utils.data.DataLoader(train, batch_size = 64, shuffle = True)\n",
    "test_loader = torch.utils.data.DataLoader(test, batch_size = 64, shuffle = True)"
   ]
  },
  {
   "cell_type": "code",
   "execution_count": 2,
   "metadata": {},
   "outputs": [
    {
     "name": "stderr",
     "output_type": "stream",
     "text": [
      "/anaconda/envs/azureml_py38/lib/python3.8/site-packages/lightning_fabric/accelerators/cuda.py:241: Can't initialize NVML\n",
      "GPU available: False, used: False\n",
      "TPU available: False, using: 0 TPU cores\n",
      "IPU available: False, using: 0 IPUs\n",
      "HPU available: False, using: 0 HPUs\n"
     ]
    },
    {
     "ename": "NameError",
     "evalue": "name 'model' is not defined",
     "output_type": "error",
     "traceback": [
      "\u001b[0;31m---------------------------------------------------------------------------\u001b[0m",
      "\u001b[0;31mNameError\u001b[0m                                 Traceback (most recent call last)",
      "\u001b[1;32m/home/azureuser/cloudfiles/code/Users/ariley/R-Code/Grid_Model/pyTorch_Grid_Model_NN_count _ZIP_full_prediction.ipynb Cell 7\u001b[0m line \u001b[0;36m7\n\u001b[1;32m      <a href='vscode-notebook-cell://amlext%2B2f737562736372697074696f6e732f34643130396335302d373564342d343364382d393863322d3731366364313762626239372f7265736f7572636547726f7570732f52532d554e492d4f492d474947412f70726f7669646572732f4d6963726f736f66742e4d616368696e654c6561726e696e6753657276696365732f776f726b7370616365732f756e692d676967612d64617461736369656e63652f636f6d70757465732f6172696c657931/home/azureuser/cloudfiles/code/Users/ariley/R-Code/Grid_Model/pyTorch_Grid_Model_NN_count%20_ZIP_full_prediction.ipynb#W6sdnNjb2RlLXJlbW90ZQ%3D%3D?line=1'>2</a>\u001b[0m \u001b[39mimport\u001b[39;00m \u001b[39mpytorch_lightning\u001b[39;00m \u001b[39mas\u001b[39;00m \u001b[39mpl\u001b[39;00m\n\u001b[1;32m      <a href='vscode-notebook-cell://amlext%2B2f737562736372697074696f6e732f34643130396335302d373564342d343364382d393863322d3731366364313762626239372f7265736f7572636547726f7570732f52532d554e492d4f492d474947412f70726f7669646572732f4d6963726f736f66742e4d616368696e654c6561726e696e6753657276696365732f776f726b7370616365732f756e692d676967612d64617461736369656e63652f636f6d70757465732f6172696c657931/home/azureuser/cloudfiles/code/Users/ariley/R-Code/Grid_Model/pyTorch_Grid_Model_NN_count%20_ZIP_full_prediction.ipynb#W6sdnNjb2RlLXJlbW90ZQ%3D%3D?line=3'>4</a>\u001b[0m trainer \u001b[39m=\u001b[39m pl\u001b[39m.\u001b[39mTrainer(\n\u001b[1;32m      <a href='vscode-notebook-cell://amlext%2B2f737562736372697074696f6e732f34643130396335302d373564342d343364382d393863322d3731366364313762626239372f7265736f7572636547726f7570732f52532d554e492d4f492d474947412f70726f7669646572732f4d6963726f736f66742e4d616368696e654c6561726e696e6753657276696365732f776f726b7370616365732f756e692d676967612d64617461736369656e63652f636f6d70757465732f6172696c657931/home/azureuser/cloudfiles/code/Users/ariley/R-Code/Grid_Model/pyTorch_Grid_Model_NN_count%20_ZIP_full_prediction.ipynb#W6sdnNjb2RlLXJlbW90ZQ%3D%3D?line=4'>5</a>\u001b[0m     max_epochs\u001b[39m=\u001b[39m\u001b[39m100\u001b[39m,\n\u001b[1;32m      <a href='vscode-notebook-cell://amlext%2B2f737562736372697074696f6e732f34643130396335302d373564342d343364382d393863322d3731366364313762626239372f7265736f7572636547726f7570732f52532d554e492d4f492d474947412f70726f7669646572732f4d6963726f736f66742e4d616368696e654c6561726e696e6753657276696365732f776f726b7370616365732f756e692d676967612d64617461736369656e63652f636f6d70757465732f6172696c657931/home/azureuser/cloudfiles/code/Users/ariley/R-Code/Grid_Model/pyTorch_Grid_Model_NN_count%20_ZIP_full_prediction.ipynb#W6sdnNjb2RlLXJlbW90ZQ%3D%3D?line=5'>6</a>\u001b[0m )\n\u001b[0;32m----> <a href='vscode-notebook-cell://amlext%2B2f737562736372697074696f6e732f34643130396335302d373564342d343364382d393863322d3731366364313762626239372f7265736f7572636547726f7570732f52532d554e492d4f492d474947412f70726f7669646572732f4d6963726f736f66742e4d616368696e654c6561726e696e6753657276696365732f776f726b7370616365732f756e692d676967612d64617461736369656e63652f636f6d70757465732f6172696c657931/home/azureuser/cloudfiles/code/Users/ariley/R-Code/Grid_Model/pyTorch_Grid_Model_NN_count%20_ZIP_full_prediction.ipynb#W6sdnNjb2RlLXJlbW90ZQ%3D%3D?line=6'>7</a>\u001b[0m trainer\u001b[39m.\u001b[39mfit(model, train_loader)\n",
      "\u001b[0;31mNameError\u001b[0m: name 'model' is not defined"
     ]
    }
   ],
   "source": [
    "from torch.utils.data import TensorDataset, DataLoader\n",
    "import pytorch_lightning as pl\n",
    "\n",
    "trainer = pl.Trainer(\n",
    "    max_epochs=100,\n",
    ")\n",
    "trainer.fit(model, train_loader)"
   ]
  }
 ],
 "metadata": {
  "kernelspec": {
   "display_name": "Python 3.8 - AzureML",
   "language": "python",
   "name": "python38-azureml"
  }
 },
 "nbformat": 4,
 "nbformat_minor": 2
}
