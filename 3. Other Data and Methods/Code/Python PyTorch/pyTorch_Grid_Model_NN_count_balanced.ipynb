{
 "cells": [
  {
   "cell_type": "code",
   "execution_count": 1,
   "metadata": {},
   "outputs": [],
   "source": [
    "import numpy\n",
    "import pandas\n",
    "import matplotlib.pyplot as plt\n",
    "import csv\n",
    "import torch\n",
    "from torch import nn\n",
    "import torch.nn.functional as F\n",
    "from torch.autograd import Variable\n",
    "import math\n",
    "from sklearn.model_selection import train_test_split\n",
    "from sklearn.metrics import mean_squared_error\n",
    "import sklearn\n",
    "from math import sqrt, ceil\n",
    "from torch.utils.data import WeightedRandomSampler, DataLoader\n",
    "from random import sample \n"
   ]
  },
  {
   "cell_type": "markdown",
   "metadata": {},
   "source": [
    "https://www.pluralsight.com/guides/predictive-analytics-with-pytorch"
   ]
  },
  {
   "cell_type": "code",
   "execution_count": 2,
   "metadata": {},
   "outputs": [],
   "source": [
    "schools = pandas.read_csv(\"/home/azureuser/cloudfiles/code/Users/ariley/Data/Schools/School_Counts/ceara_school_count_data.csv\")\n",
    "\n",
    "schools = schools.iloc[:, 3:]\n",
    "\n",
    "schools = schools.dropna()\n",
    "\n",
    "df = schools\n",
    "\n",
    "df.head()\n",
    "\n",
    "\n",
    "target_column = ['NUMPOINTS'] \n",
    "predictors = list(set(list(df.columns))-set(target_column))"
   ]
  },
  {
   "cell_type": "code",
   "execution_count": 3,
   "metadata": {},
   "outputs": [
    {
     "name": "stdout",
     "output_type": "stream",
     "text": [
      "(6623, 8)\n",
      "(2839, 8)\n"
     ]
    }
   ],
   "source": [
    "df_zero = df[df[\"NUMPOINTS\"] == 0]\n",
    "df_ones = df[df[\"NUMPOINTS\"]  > 0]\n",
    "\n",
    "\n",
    "samp_zero = sample(range(0, len(df_zero) - 1), len(df_ones))\n",
    "df_zero = df_zero.iloc[samp_zero]\n",
    "df = pandas.concat([df_zero, df_ones])\n",
    "\n",
    "X = df[predictors].values\n",
    "y = df[target_column].values\n",
    "\n",
    "X_train, X_test, y_train, y_test = train_test_split(X, y, test_size = 0.3, random_state = 30)\n",
    "print(X_train.shape); print(X_test.shape)"
   ]
  },
  {
   "cell_type": "code",
   "execution_count": 5,
   "metadata": {},
   "outputs": [],
   "source": [
    "class ANN(nn.Module):\n",
    "    def __init__(self, input_dim = 8, output_dim = 1):\n",
    "        super(ANN, self).__init__()\n",
    "        self.fc1 = nn.Linear(input_dim, 64)\n",
    "        self.fc2 = nn.Linear(64, 64)\n",
    "        self.fc3 = nn.Linear(64, 32)\n",
    "        self.fc4 = nn.Linear(32, 32)\n",
    "        self.output_layer = nn.Linear(32,1)\n",
    "        self.dropout = nn.Dropout(0.15)\n",
    "\n",
    "    def forward(self, x):\n",
    "        x = F.relu(self.fc1(x))\n",
    "        x = F.relu(self.fc2(x))\n",
    "        x = self.dropout(x)\n",
    "        x = F.relu(self.fc3(x))\n",
    "        x = F.relu(self.fc4(x))\n",
    "        x = self.output_layer(x)\n",
    "        \n",
    "        #return nn.Sigmoid()(x)\n",
    "        return nn.ReLU()(x)"
   ]
  },
  {
   "cell_type": "code",
   "execution_count": 6,
   "metadata": {},
   "outputs": [
    {
     "name": "stdout",
     "output_type": "stream",
     "text": [
      "ANN(\n",
      "  (fc1): Linear(in_features=8, out_features=64, bias=True)\n",
      "  (fc2): Linear(in_features=64, out_features=64, bias=True)\n",
      "  (fc3): Linear(in_features=64, out_features=32, bias=True)\n",
      "  (fc4): Linear(in_features=32, out_features=32, bias=True)\n",
      "  (output_layer): Linear(in_features=32, out_features=1, bias=True)\n",
      "  (dropout): Dropout(p=0.15, inplace=False)\n",
      ")\n"
     ]
    }
   ],
   "source": [
    "model = ANN(input_dim = 8, output_dim = 1)\n",
    "\n",
    "\n",
    "\n",
    "print(model)"
   ]
  },
  {
   "cell_type": "code",
   "execution_count": 7,
   "metadata": {},
   "outputs": [],
   "source": [
    "X_train = torch.from_numpy(X_train)\n",
    "y_train = torch.from_numpy(y_train)#.view(-1,1)\n",
    "\n",
    "X_test = torch.from_numpy(X_test)\n",
    "y_test = torch.from_numpy(y_test)#.view(-1,1)\n",
    "\n",
    "train = torch.utils.data.TensorDataset(X_train,y_train)\n",
    "test = torch.utils.data.TensorDataset(X_test,y_test)\n",
    "\n",
    "train_loader = torch.utils.data.DataLoader(train, batch_size = 64, shuffle = True)\n",
    "test_loader = torch.utils.data.DataLoader(test, batch_size = 64, shuffle = True)"
   ]
  },
  {
   "cell_type": "code",
   "execution_count": 18,
   "metadata": {},
   "outputs": [],
   "source": [
    "import torch.optim as optim\n",
    "\n",
    "\n",
    "def loss_fn(pred, obs):\n",
    "    \"\"\"Custom loss function for Poisson model.\"\"\"\n",
    "    loss = torch.mean(pred-obs*torch.log(pred))\n",
    "    return loss\n",
    "\n",
    "#loss_fn = nn.MSELoss()\n",
    "#loss_fn = nn.BCELoss()\n",
    "loss_fn = nn.CrossEntropyLoss()\n",
    "\n",
    "optimizer = optim.SGD(model.parameters(), lr=0.001, weight_decay= 1e-6, momentum = 0.8)"
   ]
  },
  {
   "cell_type": "code",
   "execution_count": 19,
   "metadata": {},
   "outputs": [
    {
     "name": "stdout",
     "output_type": "stream",
     "text": [
      "Epoch: 1 \tTraining Loss: 0.0000\t Acc: 50.40%\n",
      "Epoch: 2 \tTraining Loss: 0.0000\t Acc: 50.40%\n",
      "Epoch: 3 \tTraining Loss: 0.0000\t Acc: 50.40%\n",
      "Epoch: 4 \tTraining Loss: 0.0000\t Acc: 50.40%\n",
      "Epoch: 5 \tTraining Loss: 0.0000\t Acc: 50.40%\n",
      "Epoch: 6 \tTraining Loss: 0.0000\t Acc: 50.40%\n",
      "Epoch: 7 \tTraining Loss: 0.0000\t Acc: 50.40%\n",
      "Epoch: 8 \tTraining Loss: 0.0000\t Acc: 50.40%\n",
      "Epoch: 9 \tTraining Loss: 0.0000\t Acc: 50.40%\n",
      "Epoch: 10 \tTraining Loss: 0.0000\t Acc: 50.40%\n"
     ]
    }
   ],
   "source": [
    "# lines 1 to 6\n",
    "epochs = 10 #2000\n",
    "epoch_list = []\n",
    "train_loss_list = []\n",
    "val_loss_list = []\n",
    "train_acc_list = []\n",
    "val_acc_list = []\n",
    "\n",
    "# lines 7 onwards\n",
    "model.train() # prepare model for training\n",
    "\n",
    "for epoch in range(epochs):\n",
    "    trainloss = 0.0\n",
    "    valloss = 0.0\n",
    "    \n",
    "    correct = 0\n",
    "    total = 0\n",
    "    for data,target in train_loader:\n",
    "        data = Variable(data).float()\n",
    "        target = Variable(target).type(torch.FloatTensor)\n",
    "        optimizer.zero_grad()\n",
    "        output = model(data)\n",
    "        predicted = (torch.round(output.data[0]))\n",
    "        total += len(target)\n",
    "        correct += (predicted == target).sum()\n",
    "\n",
    "        loss = loss_fn(output, target)\n",
    "        loss.backward()\n",
    "        optimizer.step()\n",
    "        trainloss += loss.item()*data.size(0)\n",
    "\n",
    "    trainloss = trainloss/len(train_loader.dataset)\n",
    "    accuracy = 100 * correct / float(total)\n",
    "    train_acc_list.append(accuracy)\n",
    "    train_loss_list.append(trainloss)\n",
    "    print('Epoch: {} \\tTraining Loss: {:.4f}\\t Acc: {:.2f}%'.format(\n",
    "        epoch+1, \n",
    "        trainloss,\n",
    "        accuracy\n",
    "        ))\n",
    "    epoch_list.append(epoch + 1)"
   ]
  },
  {
   "cell_type": "code",
   "execution_count": 20,
   "metadata": {},
   "outputs": [
    {
     "name": "stdout",
     "output_type": "stream",
     "text": [
      "tensor(49.0666)\n",
      "[0. 0. 0. 0. 0. 0. 0. 0. 0. 0. 0. 0. 0. 0. 0. 0. 0. 0. 0. 0. 0. 0. 0. 0.\n",
      " 0. 0. 0. 0. 0. 0. 0. 0. 0. 0. 0. 0. 0. 0. 0. 0. 0. 0. 0. 0. 0.]\n",
      "[0.]\n"
     ]
    }
   ],
   "source": [
    "correct = 0\n",
    "total = 0\n",
    "valloss = 0\n",
    "model.eval() \n",
    "predicted = []\n",
    "\n",
    "\n",
    "with torch.no_grad():\n",
    "    for data, target in test_loader:\n",
    "        data = Variable(data).float()\n",
    "        target = Variable(target).type(torch.FloatTensor)\n",
    "\n",
    "        output = model(data)\n",
    "        loss = loss_fn(output, target)\n",
    "        valloss += loss.item()*data.size(0)\n",
    "        \n",
    "        pred = (torch.round(output.data[0]))\n",
    "        predicted.append(torch.round(output.data[0]))\n",
    "        total += len(target)\n",
    "        #correct += (predicted == target).sum()\n",
    "        correct += (pred == target).sum()\n",
    "    \n",
    "    valloss = valloss/len(test_loader.dataset)\n",
    "    accuracy = 100 * correct/ float(total)\n",
    "    print(accuracy) \n",
    "    \n",
    "#print(predicted)\n",
    "\n",
    "out = torch.cat(predicted, dim = 0)\n",
    "#print(out)\n",
    "\n",
    "out_array = numpy.array(out)\n",
    "print(out_array)\n",
    "\n",
    "print(numpy.unique(out_array))\n"
   ]
  }
 ],
 "metadata": {
  "kernelspec": {
   "display_name": "Python 3.8 - AzureML",
   "language": "python",
   "name": "python38-azureml"
  },
  "language_info": {
   "codemirror_mode": {
    "name": "ipython",
    "version": 3
   },
   "file_extension": ".py",
   "mimetype": "text/x-python",
   "name": "python",
   "nbconvert_exporter": "python",
   "pygments_lexer": "ipython3",
   "version": "3.8.5"
  }
 },
 "nbformat": 4,
 "nbformat_minor": 2
}
