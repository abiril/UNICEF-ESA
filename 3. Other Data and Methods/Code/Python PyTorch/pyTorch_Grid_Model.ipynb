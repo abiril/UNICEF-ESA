{
 "cells": [
  {
   "cell_type": "code",
   "execution_count": 1,
   "metadata": {},
   "outputs": [
    {
     "name": "stdout",
     "output_type": "stream",
     "text": [
      "1.51.0\n"
     ]
    }
   ],
   "source": [
    "#pyTorch\n",
    "\n",
    "import azureml.core\n",
    "print(azureml.core.VERSION)\n",
    "from azureml.core.workspace import Workspace\n",
    "ws = Workspace.from_config()\n",
    "ws.get_details()\n",
    "\n",
    "from azureml.core import Environment\n",
    "\n",
    "curated_env = Environment.get(workspace=ws, name=\"abi_pytorch2\")\n",
    "\n"
   ]
  },
  {
   "cell_type": "code",
   "execution_count": 4,
   "metadata": {},
   "outputs": [
    {
     "name": "stdout",
     "output_type": "stream",
     "text": [
      "Requirement already satisfied: torch in /anaconda/envs/azureml_py38/lib/python3.8/site-packages (1.12.0)\n",
      "Requirement already satisfied: typing-extensions in /home/azureuser/.local/lib/python3.8/site-packages (from torch) (4.8.0)\n",
      "Note: you may need to restart the kernel to use updated packages.\n",
      "\u001b[31mERROR: Could not find a version that satisfies the requirement rTorch (from versions: none)\u001b[0m\n",
      "\u001b[31mERROR: No matching distribution found for rTorch\u001b[0m\n",
      "Note: you may need to restart the kernel to use updated packages.\n"
     ]
    }
   ],
   "source": [
    "%pip install torch\n"
   ]
  },
  {
   "cell_type": "code",
   "execution_count": 27,
   "metadata": {},
   "outputs": [],
   "source": [
    "import numpy\n",
    "import pandas\n",
    "import matplotlib.pyplot\n",
    "import csv\n",
    "import torch\n",
    "import math\n",
    "import torch.nn as nn"
   ]
  },
  {
   "cell_type": "markdown",
   "metadata": {},
   "source": [
    "Load data, make into tensors..."
   ]
  },
  {
   "cell_type": "code",
   "execution_count": 3,
   "metadata": {},
   "outputs": [
    {
     "data": {
      "text/html": [
       "<div>\n",
       "<style scoped>\n",
       "    .dataframe tbody tr th:only-of-type {\n",
       "        vertical-align: middle;\n",
       "    }\n",
       "\n",
       "    .dataframe tbody tr th {\n",
       "        vertical-align: top;\n",
       "    }\n",
       "\n",
       "    .dataframe thead th {\n",
       "        text-align: right;\n",
       "    }\n",
       "</style>\n",
       "<table border=\"1\" class=\"dataframe\">\n",
       "  <thead>\n",
       "    <tr style=\"text-align: right;\">\n",
       "      <th></th>\n",
       "      <th>NUMPOINTS</th>\n",
       "      <th>ID</th>\n",
       "      <th>land</th>\n",
       "      <th>pop</th>\n",
       "      <th>built_s</th>\n",
       "      <th>built_v</th>\n",
       "      <th>smod</th>\n",
       "      <th>x</th>\n",
       "      <th>y</th>\n",
       "    </tr>\n",
       "  </thead>\n",
       "  <tbody>\n",
       "    <tr>\n",
       "      <th>0</th>\n",
       "      <td>0</td>\n",
       "      <td>1.0</td>\n",
       "      <td>1000000.0</td>\n",
       "      <td>0.000000</td>\n",
       "      <td>0</td>\n",
       "      <td>0</td>\n",
       "      <td>11</td>\n",
       "      <td>-4.146928e+06</td>\n",
       "      <td>-415647.743962</td>\n",
       "    </tr>\n",
       "    <tr>\n",
       "      <th>1</th>\n",
       "      <td>0</td>\n",
       "      <td>2.0</td>\n",
       "      <td>1000000.0</td>\n",
       "      <td>0.000000</td>\n",
       "      <td>0</td>\n",
       "      <td>0</td>\n",
       "      <td>11</td>\n",
       "      <td>-4.146995e+06</td>\n",
       "      <td>-416168.514849</td>\n",
       "    </tr>\n",
       "    <tr>\n",
       "      <th>2</th>\n",
       "      <td>0</td>\n",
       "      <td>3.0</td>\n",
       "      <td>1000000.0</td>\n",
       "      <td>89.137142</td>\n",
       "      <td>4644</td>\n",
       "      <td>11618</td>\n",
       "      <td>12</td>\n",
       "      <td>-4.145898e+06</td>\n",
       "      <td>-412699.018444</td>\n",
       "    </tr>\n",
       "    <tr>\n",
       "      <th>3</th>\n",
       "      <td>0</td>\n",
       "      <td>4.0</td>\n",
       "      <td>1000000.0</td>\n",
       "      <td>8.601842</td>\n",
       "      <td>359</td>\n",
       "      <td>898</td>\n",
       "      <td>11</td>\n",
       "      <td>-4.146006e+06</td>\n",
       "      <td>-413307.519153</td>\n",
       "    </tr>\n",
       "    <tr>\n",
       "      <th>4</th>\n",
       "      <td>0</td>\n",
       "      <td>5.0</td>\n",
       "      <td>1000000.0</td>\n",
       "      <td>2.825484</td>\n",
       "      <td>141</td>\n",
       "      <td>353</td>\n",
       "      <td>11</td>\n",
       "      <td>-4.146103e+06</td>\n",
       "      <td>-414290.948276</td>\n",
       "    </tr>\n",
       "  </tbody>\n",
       "</table>\n",
       "</div>"
      ],
      "text/plain": [
       "   NUMPOINTS   ID       land        pop  built_s  built_v  smod             x  \\\n",
       "0          0  1.0  1000000.0   0.000000        0        0    11 -4.146928e+06   \n",
       "1          0  2.0  1000000.0   0.000000        0        0    11 -4.146995e+06   \n",
       "2          0  3.0  1000000.0  89.137142     4644    11618    12 -4.145898e+06   \n",
       "3          0  4.0  1000000.0   8.601842      359      898    11 -4.146006e+06   \n",
       "4          0  5.0  1000000.0   2.825484      141      353    11 -4.146103e+06   \n",
       "\n",
       "               y  \n",
       "0 -415647.743962  \n",
       "1 -416168.514849  \n",
       "2 -412699.018444  \n",
       "3 -413307.519153  \n",
       "4 -414290.948276  "
      ]
     },
     "execution_count": 3,
     "metadata": {},
     "output_type": "execute_result"
    }
   ],
   "source": [
    "schools = pandas.read_csv(\"/home/azureuser/cloudfiles/code/Users/ariley/Data/Schools/School_Counts/ceara_school_count_data.csv\")\n",
    "\n",
    "schools = schools.iloc[:, 3:]\n",
    "\n",
    "schools = schools.dropna()\n",
    "\n",
    "schools.head()"
   ]
  },
  {
   "cell_type": "code",
   "execution_count": 4,
   "metadata": {},
   "outputs": [
    {
     "data": {
      "text/plain": [
       "count    151221.000000\n",
       "mean          0.094993\n",
       "std           1.057113\n",
       "min           0.000000\n",
       "25%           0.000000\n",
       "50%           0.000000\n",
       "75%           0.000000\n",
       "max         198.000000\n",
       "Name: NUMPOINTS, dtype: float64"
      ]
     },
     "execution_count": 4,
     "metadata": {},
     "output_type": "execute_result"
    }
   ],
   "source": [
    "schools.NUMPOINTS.describe()"
   ]
  },
  {
   "cell_type": "code",
   "execution_count": 30,
   "metadata": {},
   "outputs": [],
   "source": [
    "mu_ = schools.NUMPOINTS.mean()\n",
    "sigma_ = numpy.sqrt(schools.NUMPOINTS.var())"
   ]
  },
  {
   "cell_type": "markdown",
   "metadata": {},
   "source": [
    "https://github.com/meaneych/PyTorch_CountDistribution_Examples/blob/main/Poisson_PyTorch_Autograd.ipynb"
   ]
  },
  {
   "cell_type": "code",
   "execution_count": 31,
   "metadata": {},
   "outputs": [],
   "source": [
    "x = torch.autograd.Variable(torch.from_numpy(schools.to_numpy())).type(torch.FloatTensor)\n",
    "l_mu = torch.autograd.Variable(torch.rand(1), requires_grad=True) "
   ]
  },
  {
   "cell_type": "markdown",
   "metadata": {},
   "source": [
    "Poisson Loss Functions"
   ]
  },
  {
   "cell_type": "code",
   "execution_count": 15,
   "metadata": {},
   "outputs": [],
   "source": [
    "def poisson_nll(x, log_mu):\n",
    "    nll = -torch.sum(-torch.exp(log_mu) + x*torch.log(torch.exp(log_mu)) - torch.lgamma(x))\n",
    "    return nll"
   ]
  },
  {
   "cell_type": "code",
   "execution_count": null,
   "metadata": {},
   "outputs": [],
   "source": [
    "def poissonLoss(predicted, observed):\n",
    "    \"\"\"Custom loss function for Poisson model.\"\"\"\n",
    "    loss = torch.mean(predicted-observed*torch.log(predicted))\n",
    "    return loss"
   ]
  },
  {
   "cell_type": "markdown",
   "metadata": {},
   "source": [
    "pyTorch ZIP loss function????\n",
    "\n",
    "mixture loss function??? possible?"
   ]
  },
  {
   "cell_type": "code",
   "execution_count": null,
   "metadata": {},
   "outputs": [],
   "source": [
    "def poisson_nll(x, log_mu):\n",
    "    if x == 0:\n",
    "        nll = \n",
    "    nll = -torch.sum(-torch.exp(log_mu) + x*torch.log(torch.exp(log_mu)) - torch.lgamma(x))\n",
    "    return nll"
   ]
  },
  {
   "cell_type": "markdown",
   "metadata": {},
   "source": [
    "From ChatGPT"
   ]
  },
  {
   "cell_type": "code",
   "execution_count": 34,
   "metadata": {},
   "outputs": [],
   "source": [
    "class ZeroInflatedPoissonLoss(torch.nn.Module):\n",
    "    def __init__(self):\n",
    "        super(ZeroInflatedPoissonLoss, self).__init__()\n",
    "\n",
    "    def forward(self, y_true, pi, lambda_param):\n",
    "        \"\"\"\n",
    "        Args:\n",
    "            y_true (torch.Tensor): True target values (ground truth).\n",
    "            pi (torch.Tensor): Probability of excess zeros (0 <= pi <= 1).\n",
    "            lambda_param (torch.Tensor): Poisson distribution parameter.\n",
    "        \"\"\"\n",
    "        # Calculate the probability mass function for each data point\n",
    "        prob_zero = pi + (1 - pi) * torch.exp(-lambda_param)\n",
    "        prob_non_zero = (1 - pi) * torch.exp(-lambda_param) * lambda_param**y_true / torch.factorial(y_true)\n",
    "\n",
    "        # Combine the probabilities for zero and non-zero values\n",
    "        prob_combined = torch.where(y_true == 0, prob_zero, prob_non_zero)\n",
    "\n",
    "        # Calculate the negative log-likelihood\n",
    "        loss = -torch.log(prob_combined)\n",
    "\n",
    "        # Take the mean across the batch\n",
    "        nll = torch.mean(loss)\n",
    "\n",
    "        return nll"
   ]
  },
  {
   "cell_type": "code",
   "execution_count": 32,
   "metadata": {},
   "outputs": [
    {
     "name": "stdout",
     "output_type": "stream",
     "text": [
      "Iteration =  0 loglik  = 35229.46 l_mu = [0.09053355] dL/dlmu =  [389120.53]\n",
      "Iteration =  10 loglik  = -302792670.0 l_mu = [-778.14844] dL/dlmu =  [389119.44]\n",
      "Iteration =  20 loglik  = -605620350.0 l_mu = [-1556.387] dL/dlmu =  [389119.44]\n",
      "Iteration =  30 loglik  = -908448300.0 l_mu = [-2334.626] dL/dlmu =  [389119.44]\n",
      "Iteration =  40 loglik  = -1211276500.0 l_mu = [-3112.8657] dL/dlmu =  [389119.44]\n",
      "Iteration =  50 loglik  = -1514104600.0 l_mu = [-3891.1055] dL/dlmu =  [389119.44]\n",
      "Iteration =  60 loglik  = -1816932000.0 l_mu = [-4669.3433] dL/dlmu =  [389119.44]\n",
      "Iteration =  70 loglik  = -2119759500.0 l_mu = [-5447.5806] dL/dlmu =  [389119.44]\n",
      "Iteration =  80 loglik  = -2422586400.0 l_mu = [-6225.818] dL/dlmu =  [389119.44]\n",
      "Iteration =  90 loglik  = -2725414000.0 l_mu = [-7004.055] dL/dlmu =  [389119.44]\n"
     ]
    }
   ],
   "source": [
    "## Learning rate\n",
    "learning_rate = 2e-4\n",
    "\n",
    "## Training loop\n",
    "for t in range(100):\n",
    "    ## Backprop on negative log likelihood loss\n",
    "    loss = nn.PoissonNLLLoss()\n",
    "    NLLp = loss(l_mu, x)\n",
    "    NLLp.backward()\n",
    "    ## Logging to console\n",
    "    if t % 10 == 0:\n",
    "        print(\"Iteration = \", t, \n",
    "              \"loglik  =\", NLLp.data.numpy(), \n",
    "              \"l_mu =\", l_mu.data.numpy(), \n",
    "              \"dL/dlmu = \", l_mu.grad.data.numpy())\n",
    "    ## SGD update of parms\n",
    "    l_mu.data -= learning_rate * l_mu.grad.data\n",
    "    ## Zero the gradients\n",
    "    l_mu.grad.data.zero_()"
   ]
  },
  {
   "cell_type": "code",
   "execution_count": 33,
   "metadata": {},
   "outputs": [
    {
     "data": {
      "text/plain": [
       "[array([-7782.2925], dtype=float32), array([0.], dtype=float32)]"
      ]
     },
     "execution_count": 33,
     "metadata": {},
     "output_type": "execute_result"
    }
   ],
   "source": [
    "## Final estimate of Poisson mean parm\n",
    "[l_mu.data.numpy(), numpy.exp(l_mu.data.numpy())]"
   ]
  },
  {
   "cell_type": "markdown",
   "metadata": {},
   "source": [
    "Now let's try with just urban maybe?"
   ]
  },
  {
   "cell_type": "code",
   "execution_count": 59,
   "metadata": {},
   "outputs": [
    {
     "data": {
      "text/plain": [
       "(array([546.,  18.,   0.,   0.,   0.,   0.,   0.,   0.,   0.,   1.]),\n",
       " array([  0. ,  19.8,  39.6,  59.4,  79.2,  99. , 118.8, 138.6, 158.4,\n",
       "        178.2, 198. ]),\n",
       " <a list of 10 Patch objects>)"
      ]
     },
     "execution_count": 59,
     "metadata": {},
     "output_type": "execute_result"
    },
    {
     "data": {
      "image/png": "[encoded data removed]",
      "text/plain": [
       "<Figure size 640x480 with 1 Axes>"
      ]
     },
     "metadata": {},
     "output_type": "display_data"
    }
   ],
   "source": [
    "schools = pandas.read_csv(\"/home/azureuser/cloudfiles/code/Users/ariley/Data/Schools/School_Counts/ceara_school_count_data.csv\")\n",
    "schools = schools.iloc[:, 3:]\n",
    "schools = schools.dropna()\n",
    "#schools = schools[schools[\"smod\"].isin([21,22,23,30])]\n",
    "schools = schools[schools[\"smod\"] == 30]\n",
    "\n",
    "schools.head()\n",
    "matplotlib.pyplot.hist(schools.NUMPOINTS)"
   ]
  },
  {
   "cell_type": "code",
   "execution_count": 53,
   "metadata": {},
   "outputs": [
    {
     "name": "stdout",
     "output_type": "stream",
     "text": [
      "Iteration =  0 loglik  = 30012.994 l_mu = [0.31442636] dL/dlmu =  [95450.17]\n",
      "Iteration =  10 loglik  = -18190966.0 l_mu = [-190.58344] dL/dlmu =  [95448.805]\n",
      "Iteration =  20 loglik  = -36411908.0 l_mu = [-381.48096] dL/dlmu =  [95448.805]\n",
      "Iteration =  30 loglik  = -54632860.0 l_mu = [-572.3786] dL/dlmu =  [95448.805]\n",
      "Iteration =  40 loglik  = -72853840.0 l_mu = [-763.2764] dL/dlmu =  [95448.805]\n",
      "Iteration =  50 loglik  = -91074780.0 l_mu = [-954.17426] dL/dlmu =  [95448.805]\n",
      "Iteration =  60 loglik  = -109295736.0 l_mu = [-1145.0717] dL/dlmu =  [95448.805]\n",
      "Iteration =  70 loglik  = -127516610.0 l_mu = [-1335.9689] dL/dlmu =  [95448.805]\n",
      "Iteration =  80 loglik  = -145737580.0 l_mu = [-1526.8661] dL/dlmu =  [95448.805]\n",
      "Iteration =  90 loglik  = -163958380.0 l_mu = [-1717.7633] dL/dlmu =  [95448.805]\n"
     ]
    }
   ],
   "source": [
    "mu_ = schools.NUMPOINTS.mean()\n",
    "sigma_ = numpy.sqrt(schools.NUMPOINTS.var())\n",
    "\n",
    "x = torch.autograd.Variable(torch.from_numpy(schools.to_numpy())).type(torch.FloatTensor)\n",
    "l_mu = torch.autograd.Variable(torch.rand(1), requires_grad=True) \n",
    "\n",
    "## Learning rate\n",
    "learning_rate = 2e-4\n",
    "\n",
    "## Training loop\n",
    "for t in range(100):\n",
    "    ## Backprop on negative log likelihood loss\n",
    "    loss = nn.PoissonNLLLoss()\n",
    "    NLLp = loss(l_mu, x)\n",
    "    NLLp.backward()\n",
    "    ## Logging to console\n",
    "    if t % 10 == 0:\n",
    "        print(\"Iteration = \", t, \n",
    "              \"loglik  =\", NLLp.data.numpy(), \n",
    "              \"l_mu =\", l_mu.data.numpy(), \n",
    "              \"dL/dlmu = \", l_mu.grad.data.numpy())\n",
    "    ## SGD update of parms\n",
    "    l_mu.data -= learning_rate * l_mu.grad.data\n",
    "    ## Zero the gradients\n",
    "    l_mu.grad.data.zero_()"
   ]
  },
  {
   "cell_type": "code",
   "execution_count": 54,
   "metadata": {},
   "outputs": [
    {
     "data": {
      "text/plain": [
       "[array([-1908.6605], dtype=float32), array([0.], dtype=float32)]"
      ]
     },
     "execution_count": 54,
     "metadata": {},
     "output_type": "execute_result"
    }
   ],
   "source": [
    "## Final estimate of Poisson mean parm\n",
    "[l_mu.data.numpy(), numpy.exp(l_mu.data.numpy())]"
   ]
  }
 ],
 "metadata": {
  "kernelspec": {
   "display_name": "Python 3.8 - AzureML",
   "language": "python",
   "name": "python38-azureml"
  }
 },
 "nbformat": 4,
 "nbformat_minor": 2
}
