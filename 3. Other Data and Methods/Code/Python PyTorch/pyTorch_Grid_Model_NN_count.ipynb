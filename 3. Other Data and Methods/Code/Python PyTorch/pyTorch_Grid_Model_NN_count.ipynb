{
 "cells": [
  {
   "cell_type": "code",
   "execution_count": 1,
   "metadata": {},
   "outputs": [],
   "source": [
    "import numpy\n",
    "import pandas\n",
    "import matplotlib.pyplot as plt\n",
    "import csv\n",
    "import torch\n",
    "from torch import nn\n",
    "import torch.nn.functional as F\n",
    "from torch.autograd import Variable\n",
    "import math\n",
    "from sklearn.model_selection import train_test_split\n",
    "from sklearn.metrics import mean_squared_error\n",
    "import sklearn\n",
    "from math import sqrt"
   ]
  },
  {
   "cell_type": "markdown",
   "metadata": {},
   "source": [
    "https://www.pluralsight.com/guides/predictive-analytics-with-pytorch"
   ]
  },
  {
   "cell_type": "code",
   "execution_count": 2,
   "metadata": {},
   "outputs": [
    {
     "name": "stdout",
     "output_type": "stream",
     "text": [
      "['NUMPOINTS']\n",
      "['built_v', 'built_s', 'x', 'y', 'ID', 'smod', 'pop', 'land']\n",
      "(105854, 8)\n",
      "(45367, 8)\n"
     ]
    }
   ],
   "source": [
    "schools = pandas.read_csv(\"/home/azureuser/cloudfiles/code/Users/ariley/Data/Schools/School_Counts/ceara_school_count_data.csv\")\n",
    "\n",
    "schools = schools.iloc[:, 3:]\n",
    "\n",
    "schools = schools.dropna()\n",
    "\n",
    "df = schools\n",
    "\n",
    "df.head()\n",
    "\n",
    "target_column = ['NUMPOINTS'] \n",
    "predictors = list(set(list(df.columns))-set(target_column))\n",
    "\n",
    "print(target_column)\n",
    "print(predictors)\n",
    "\n",
    "X = df[predictors].values\n",
    "y = df[target_column].values\n",
    "\n",
    "X_train, X_test, y_train, y_test = train_test_split(X, y, test_size = 0.3, random_state = 30)\n",
    "print(X_train.shape); print(X_test.shape)\n"
   ]
  },
  {
   "cell_type": "code",
   "execution_count": 3,
   "metadata": {},
   "outputs": [],
   "source": [
    "class ANN(nn.Module):\n",
    "    def __init__(self, input_dim = 8, output_dim = 1):\n",
    "        super(ANN, self).__init__()\n",
    "        self.fc1 = nn.Linear(input_dim, 64)\n",
    "        self.fc2 = nn.Linear(64, 64)\n",
    "        self.fc3 = nn.Linear(64, 32)\n",
    "        self.fc4 = nn.Linear(32, 32)\n",
    "        self.output_layer = nn.Linear(32,1)\n",
    "        self.dropout = nn.Dropout(0.15)\n",
    "\n",
    "    def forward(self, x):\n",
    "        x = F.relu(self.fc1(x))\n",
    "        x = F.relu(self.fc2(x))\n",
    "        x = self.dropout(x)\n",
    "        x = F.relu(self.fc3(x))\n",
    "        x = F.relu(self.fc4(x))\n",
    "        x = self.output_layer(x)\n",
    "        \n",
    "        #return nn.Sigmoid()(x)\n",
    "        return nn.ReLU()(x)"
   ]
  },
  {
   "cell_type": "code",
   "execution_count": 4,
   "metadata": {},
   "outputs": [
    {
     "name": "stdout",
     "output_type": "stream",
     "text": [
      "ANN(\n",
      "  (fc1): Linear(in_features=8, out_features=64, bias=True)\n",
      "  (fc2): Linear(in_features=64, out_features=64, bias=True)\n",
      "  (fc3): Linear(in_features=64, out_features=32, bias=True)\n",
      "  (fc4): Linear(in_features=32, out_features=32, bias=True)\n",
      "  (output_layer): Linear(in_features=32, out_features=1, bias=True)\n",
      "  (dropout): Dropout(p=0.15, inplace=False)\n",
      ")\n"
     ]
    }
   ],
   "source": [
    "model = ANN(input_dim = 8, output_dim = 1)\n",
    "\n",
    "\n",
    "\n",
    "print(model)"
   ]
  },
  {
   "cell_type": "code",
   "execution_count": 5,
   "metadata": {},
   "outputs": [],
   "source": [
    "X_train = torch.from_numpy(X_train)\n",
    "y_train = torch.from_numpy(y_train)#.view(-1,1)\n",
    "\n",
    "X_test = torch.from_numpy(X_test)\n",
    "y_test = torch.from_numpy(y_test)#.view(-1,1)\n",
    "\n",
    "train = torch.utils.data.TensorDataset(X_train,y_train)\n",
    "test = torch.utils.data.TensorDataset(X_test,y_test)\n",
    "\n",
    "train_loader = torch.utils.data.DataLoader(train, batch_size = 64, shuffle = True)\n",
    "test_loader = torch.utils.data.DataLoader(test, batch_size = 64, shuffle = True)"
   ]
  },
  {
   "cell_type": "code",
   "execution_count": 7,
   "metadata": {},
   "outputs": [],
   "source": [
    "import torch.optim as optim\n",
    "#loss_fn = nn.BCELoss()\n",
    "#loss_fn = nn.CrossEntropyLoss()\n",
    "\n",
    "def loss_fn(pred, obs):\n",
    "    \"\"\"Custom loss function for Poisson model.\"\"\"\n",
    "    loss = torch.mean(pred-obs*torch.log(pred))\n",
    "    return loss\n",
    "\n",
    "loss_fn = nn.MSELoss()\n",
    "\n",
    "optimizer = optim.SGD(model.parameters(), lr=0.001, weight_decay= 1e-6, momentum = 0.8)"
   ]
  },
  {
   "cell_type": "code",
   "execution_count": 10,
   "metadata": {},
   "outputs": [
    {
     "name": "stdout",
     "output_type": "stream",
     "text": [
      "Epoch: 1 \tTraining Loss: 0.9156\t Acc: 96.86%\n",
      "Epoch: 2 \tTraining Loss: 0.9156\t Acc: 96.86%\n",
      "Epoch: 3 \tTraining Loss: 0.9156\t Acc: 96.86%\n",
      "Epoch: 4 \tTraining Loss: 0.9156\t Acc: 96.86%\n",
      "Epoch: 5 \tTraining Loss: 0.9156\t Acc: 96.86%\n",
      "Epoch: 6 \tTraining Loss: 0.9156\t Acc: 96.86%\n",
      "Epoch: 7 \tTraining Loss: 0.9156\t Acc: 96.86%\n",
      "Epoch: 8 \tTraining Loss: 0.9156\t Acc: 96.86%\n",
      "Epoch: 9 \tTraining Loss: 0.9156\t Acc: 96.86%\n",
      "Epoch: 10 \tTraining Loss: 0.9156\t Acc: 96.86%\n",
      "Epoch: 11 \tTraining Loss: 0.9156\t Acc: 96.86%\n",
      "Epoch: 12 \tTraining Loss: 0.9156\t Acc: 96.86%\n",
      "Epoch: 13 \tTraining Loss: 0.9156\t Acc: 96.86%\n",
      "Epoch: 14 \tTraining Loss: 0.9156\t Acc: 96.86%\n",
      "Epoch: 15 \tTraining Loss: 0.9156\t Acc: 96.86%\n",
      "Epoch: 16 \tTraining Loss: 0.9156\t Acc: 96.86%\n",
      "Epoch: 17 \tTraining Loss: 0.9156\t Acc: 96.86%\n",
      "Epoch: 18 \tTraining Loss: 0.9156\t Acc: 96.86%\n",
      "Epoch: 19 \tTraining Loss: 0.9156\t Acc: 96.86%\n",
      "Epoch: 20 \tTraining Loss: 0.9156\t Acc: 96.86%\n",
      "Epoch: 21 \tTraining Loss: 0.9156\t Acc: 96.86%\n",
      "Epoch: 22 \tTraining Loss: 0.9156\t Acc: 96.86%\n",
      "Epoch: 23 \tTraining Loss: 0.9156\t Acc: 96.86%\n",
      "Epoch: 24 \tTraining Loss: 0.9156\t Acc: 96.86%\n",
      "Epoch: 25 \tTraining Loss: 0.9156\t Acc: 96.86%\n",
      "Epoch: 26 \tTraining Loss: 0.9156\t Acc: 96.86%\n",
      "Epoch: 27 \tTraining Loss: 0.9156\t Acc: 96.86%\n",
      "Epoch: 28 \tTraining Loss: 0.9156\t Acc: 96.86%\n",
      "Epoch: 29 \tTraining Loss: 0.9156\t Acc: 96.86%\n",
      "Epoch: 30 \tTraining Loss: 0.9156\t Acc: 96.86%\n",
      "Epoch: 31 \tTraining Loss: 0.9156\t Acc: 96.86%\n",
      "Epoch: 32 \tTraining Loss: 0.9156\t Acc: 96.86%\n",
      "Epoch: 33 \tTraining Loss: 0.9156\t Acc: 96.86%\n",
      "Epoch: 34 \tTraining Loss: 0.9156\t Acc: 96.86%\n",
      "Epoch: 35 \tTraining Loss: 0.9156\t Acc: 96.86%\n",
      "Epoch: 36 \tTraining Loss: 0.9156\t Acc: 96.86%\n",
      "Epoch: 37 \tTraining Loss: 0.9156\t Acc: 96.86%\n",
      "Epoch: 38 \tTraining Loss: 0.9156\t Acc: 96.86%\n",
      "Epoch: 39 \tTraining Loss: 0.9156\t Acc: 96.86%\n",
      "Epoch: 40 \tTraining Loss: 0.9156\t Acc: 96.86%\n",
      "Epoch: 41 \tTraining Loss: 0.9156\t Acc: 96.86%\n",
      "Epoch: 42 \tTraining Loss: 0.9156\t Acc: 96.86%\n",
      "Epoch: 43 \tTraining Loss: 0.9156\t Acc: 96.86%\n",
      "Epoch: 44 \tTraining Loss: 0.9156\t Acc: 96.86%\n",
      "Epoch: 45 \tTraining Loss: 0.9156\t Acc: 96.86%\n",
      "Epoch: 46 \tTraining Loss: 0.9156\t Acc: 96.86%\n",
      "Epoch: 47 \tTraining Loss: 0.9156\t Acc: 96.86%\n",
      "Epoch: 48 \tTraining Loss: 0.9156\t Acc: 96.86%\n",
      "Epoch: 49 \tTraining Loss: 0.9156\t Acc: 96.86%\n",
      "Epoch: 50 \tTraining Loss: 0.9156\t Acc: 96.86%\n"
     ]
    }
   ],
   "source": [
    "# lines 1 to 6\n",
    "epochs = 50 #2000\n",
    "epoch_list = []\n",
    "train_loss_list = []\n",
    "val_loss_list = []\n",
    "train_acc_list = []\n",
    "val_acc_list = []\n",
    "\n",
    "# lines 7 onwards\n",
    "model.train() # prepare model for training\n",
    "\n",
    "for epoch in range(epochs):\n",
    "    trainloss = 0.0\n",
    "    valloss = 0.0\n",
    "    \n",
    "    correct = 0\n",
    "    total = 0\n",
    "    for data,target in train_loader:\n",
    "        data = Variable(data).float()\n",
    "        target = Variable(target).type(torch.FloatTensor)\n",
    "        optimizer.zero_grad()\n",
    "        output = model(data)\n",
    "        predicted = (torch.round(output.data[0]))\n",
    "        total += len(target)\n",
    "        correct += (predicted == target).sum()\n",
    "\n",
    "        loss = loss_fn(output, target)\n",
    "        loss.backward()\n",
    "        optimizer.step()\n",
    "        trainloss += loss.item()*data.size(0)\n",
    "\n",
    "    trainloss = trainloss/len(train_loader.dataset)\n",
    "    accuracy = 100 * correct / float(total)\n",
    "    train_acc_list.append(accuracy)\n",
    "    train_loss_list.append(trainloss)\n",
    "    print('Epoch: {} \\tTraining Loss: {:.4f}\\t Acc: {:.2f}%'.format(\n",
    "        epoch+1, \n",
    "        trainloss,\n",
    "        accuracy\n",
    "        ))\n",
    "    epoch_list.append(epoch + 1)"
   ]
  },
  {
   "cell_type": "code",
   "execution_count": 1,
   "metadata": {},
   "outputs": [
    {
     "ename": "NameError",
     "evalue": "name 'model' is not defined",
     "output_type": "error",
     "traceback": [
      "\u001b[0;31m---------------------------------------------------------------------------\u001b[0m",
      "\u001b[0;31mNameError\u001b[0m                                 Traceback (most recent call last)",
      "Cell \u001b[0;32mIn[1], line 4\u001b[0m\n\u001b[1;32m      2\u001b[0m total \u001b[38;5;241m=\u001b[39m \u001b[38;5;241m0\u001b[39m\n\u001b[1;32m      3\u001b[0m valloss \u001b[38;5;241m=\u001b[39m \u001b[38;5;241m0\u001b[39m\n\u001b[0;32m----> 4\u001b[0m \u001b[43mmodel\u001b[49m\u001b[38;5;241m.\u001b[39meval() \n\u001b[1;32m      5\u001b[0m predicted \u001b[38;5;241m=\u001b[39m []\n\u001b[1;32m      8\u001b[0m \u001b[38;5;28;01mwith\u001b[39;00m torch\u001b[38;5;241m.\u001b[39mno_grad():\n",
      "\u001b[0;31mNameError\u001b[0m: name 'model' is not defined"
     ]
    }
   ],
   "source": [
    "correct = 0\n",
    "total = 0\n",
    "valloss = 0\n",
    "model.eval() \n",
    "predicted = []\n",
    "\n",
    "\n",
    "with torch.no_grad():\n",
    "    for data, target in test_loader:\n",
    "        data = Variable(data).float()\n",
    "        target = Variable(target).type(torch.FloatTensor)\n",
    "\n",
    "        output = model(data)\n",
    "        loss = loss_fn(output, target)\n",
    "        valloss += loss.item()*data.size(0)\n",
    "        \n",
    "        pred = (torch.round(output.data[0]))\n",
    "        predicted.append(torch.round(output.data[0]))\n",
    "        total += len(target)\n",
    "        #correct += (predicted == target).sum()\n",
    "        correct += (pred == target).sum()\n",
    "    \n",
    "    valloss = valloss/len(test_loader.dataset)\n",
    "    accuracy = 100 * correct/ float(total)\n",
    "    print(accuracy) \n",
    "    \n",
    "#print(predicted)\n",
    "\n",
    "out = torch.cat(predicted, dim = 0)\n",
    "#print(out)\n",
    "\n",
    "out_array = numpy.array(out)\n",
    "print(out_array)\n",
    "#### by row???\n",
    "\n",
    "print(numpy.unique(out_array))\n",
    "\n",
    "plt.hist(out_array, bins = [-1,1,10,100,1000])"
   ]
  }
 ],
 "metadata": {
  "kernelspec": {
   "display_name": "Python 3.8 - AzureML",
   "language": "python",
   "name": "python38-azureml"
  }
 },
 "nbformat": 4,
 "nbformat_minor": 2
}
